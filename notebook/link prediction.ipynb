{
 "cells": [
  {
   "cell_type": "code",
   "execution_count": 1,
   "source": [
    "import torch\n",
    "import torch.nn as nn\n",
    "import torch.nn.functional as F\n",
    "import dgl\n",
    "import dgl.nn as dglnn\n",
    "import dgl.function as fn\n",
    "import pandas as pd"
   ],
   "outputs": [
    {
     "output_type": "stream",
     "name": "stderr",
     "text": [
      "Using backend: pytorch\n"
     ]
    }
   ],
   "metadata": {}
  },
  {
   "cell_type": "code",
   "execution_count": 2,
   "source": [
    "class DotProductPredictor(nn.Module):\n",
    "    def forward(self, graph, h):\n",
    "        # h是从5.1节的GNN模型中计算出的节点表示\n",
    "        with graph.local_scope():\n",
    "            graph.ndata['h'] = h\n",
    "            graph.apply_edges(fn.u_dot_v('h', 'h', 'score'))\n",
    "            return graph.edata['score']"
   ],
   "outputs": [],
   "metadata": {}
  },
  {
   "cell_type": "code",
   "execution_count": 3,
   "source": [
    "class SAGE(nn.Module):\n",
    "    def __init__(self, in_feats, hid_feats, out_feats):\n",
    "        super().__init__()\n",
    "        # 实例化SAGEConve，in_feats是输入特征的维度，out_feats是输出特征的维度，aggregator_type是聚合函数的类型\n",
    "        self.conv1 = dglnn.SAGEConv(\n",
    "            in_feats=in_feats, out_feats=hid_feats, aggregator_type='mean')\n",
    "        self.conv2 = dglnn.SAGEConv(\n",
    "            in_feats=hid_feats, out_feats=out_feats, aggregator_type='mean')\n",
    "\n",
    "    def forward(self, graph, inputs):\n",
    "        # 输入是节点的特征\n",
    "        h = self.conv1(graph, inputs)\n",
    "        h = F.relu(h)\n",
    "        h = self.conv2(graph, h)\n",
    "        return h"
   ],
   "outputs": [],
   "metadata": {}
  },
  {
   "cell_type": "code",
   "execution_count": 4,
   "source": [
    "class Model(nn.Module):\n",
    "    def __init__(self, in_features, hidden_features, out_features):\n",
    "        super().__init__()\n",
    "        self.sage = SAGE(in_features, hidden_features, out_features)\n",
    "        self.pred = DotProductPredictor()\n",
    "    def forward(self, g, neg_g, x):\n",
    "        h = self.sage(g, x)\n",
    "        return self.pred(g, h), self.pred(neg_g, h)"
   ],
   "outputs": [],
   "metadata": {}
  },
  {
   "cell_type": "code",
   "execution_count": 5,
   "source": [
    "def construct_negative_graph(graph, k):\n",
    "    src, dst = graph.edges()\n",
    "\n",
    "    neg_src = src.repeat_interleave(k)\n",
    "    neg_dst = torch.randint(0, graph.num_nodes(), (len(src) * k,))\n",
    "    return dgl.graph((neg_src, neg_dst), num_nodes=graph.num_nodes())\n",
    "\n",
    "def compute_loss(pos_score, neg_score):\n",
    "    # 间隔损失\n",
    "    n_edges = pos_score.shape[0]\n",
    "    return (1 - pos_score.unsqueeze(1) + neg_score.view(n_edges, -1)).clamp(min=0).mean()"
   ],
   "outputs": [],
   "metadata": {}
  },
  {
   "cell_type": "code",
   "execution_count": 6,
   "source": [
    "train_df = pd.read_csv('../tyc_cm/train_df.csv')\n",
    "valid_df = pd.read_csv('../tyc_cm/valid_df.csv')\n",
    "test_df = pd.read_csv('../tyc_cm/test_df.csv')\n",
    "test_neg_df = pd.read_csv('../tyc_cm/test_neg_df.csv')\n",
    "\n",
    "train_graph = dgl.graph((train_df.src_ind, train_df.dst_ind), num_nodes=64424)\n",
    "valid_graph = dgl.graph((valid_df.src_ind, valid_df.dst_ind), num_nodes=64424)\n",
    "test_graph = dgl.graph((test_df.src_ind, test_df.dst_ind), num_nodes=64424)\n",
    "test_neg_graph = dgl.graph((test_neg_df.src_ind, test_neg_df.dst_ind), num_nodes=64424)"
   ],
   "outputs": [],
   "metadata": {}
  },
  {
   "cell_type": "code",
   "execution_count": null,
   "source": [
    "node_features = torch.rand(train_graph.num_nodes(), 100)\n",
    "n_features = node_features.shape[1]\n",
    "k = 5\n",
    "model = Model(n_features, 100, 100)\n",
    "opt = torch.optim.Adam(model.parameters())\n",
    "for epoch in range(10):\n",
    "    negative_graph = construct_negative_graph(train_graph, k)\n",
    "    pos_score, neg_score = model(train_graph, negative_graph, node_features)\n",
    "    loss = compute_loss(pos_score, neg_score)\n",
    "    opt.zero_grad()\n",
    "    loss.backward()\n",
    "    opt.step()\n",
    "    print(loss.item())"
   ],
   "outputs": [],
   "metadata": {}
  },
  {
   "cell_type": "code",
   "execution_count": null,
   "source": [],
   "outputs": [],
   "metadata": {}
  },
  {
   "cell_type": "code",
   "execution_count": 1,
   "source": [
    "import random\n",
    "\n",
    "class DataLoader:\n",
    "    def __init__(self):\n",
    "        self.data = list(range(100))\n",
    "    \n",
    "    def __iter__(self):\n",
    "        print('calls __iter__')\n",
    "        random.shuffle(self.data)\n",
    "        for i in range(4):\n",
    "            print('yielding:')\n",
    "            yield self.data[i * 20:(i+1)*20]\n",
    "\n",
    "data = DataLoader()\n",
    "\n",
    "for batch in data:\n",
    "    print(batch)\n",
    "\n",
    "for batch in data:\n",
    "    print(batch)"
   ],
   "outputs": [
    {
     "output_type": "stream",
     "name": "stdout",
     "text": [
      "calls __iter__\n",
      "yielding:\n",
      "[63, 8, 76, 2, 55, 17, 47, 29, 1, 48, 90, 97, 26, 60, 45, 84, 33, 78, 58, 42]\n",
      "yielding:\n",
      "[28, 31, 9, 13, 57, 37, 50, 3, 81, 49, 56, 68, 94, 22, 5, 53, 52, 10, 70, 40]\n",
      "yielding:\n",
      "[43, 61, 79, 86, 12, 93, 36, 83, 15, 74, 64, 7, 44, 87, 89, 16, 35, 27, 32, 34]\n",
      "yielding:\n",
      "[51, 23, 24, 54, 4, 62, 14, 25, 85, 95, 30, 80, 46, 88, 67, 99, 18, 82, 39, 77]\n",
      "calls __iter__\n",
      "yielding:\n",
      "[5, 10, 75, 98, 37, 41, 16, 33, 83, 7, 96, 92, 20, 95, 42, 99, 60, 31, 24, 74]\n",
      "yielding:\n",
      "[70, 23, 63, 55, 79, 64, 0, 38, 72, 65, 73, 78, 25, 34, 68, 9, 88, 13, 94, 61]\n",
      "yielding:\n",
      "[2, 62, 43, 27, 40, 53, 97, 86, 8, 89, 36, 50, 26, 59, 15, 46, 56, 76, 52, 14]\n",
      "yielding:\n",
      "[6, 85, 80, 81, 18, 29, 77, 47, 4, 12, 17, 51, 93, 30, 82, 69, 91, 21, 28, 58]\n"
     ]
    }
   ],
   "metadata": {}
  },
  {
   "cell_type": "code",
   "execution_count": 6,
   "source": [
    "import pandas as pd\n",
    "\n",
    "train = pd.read_csv('../data/train_df_.csv')[['src_ind', 'dst_ind']]\n",
    "test = pd.read_csv('../data/test_df_.csv')[['src_ind', 'dst_ind']]\n",
    "test_neg = pd.read_csv('../data/test_neg_df_.csv')[['src_ind', 'dst_ind']]\n",
    "test_neg_user = pd.read_csv('../data/test_neg_df_user_.csv')[['src_ind', 'dst_ind']]"
   ],
   "outputs": [],
   "metadata": {}
  },
  {
   "cell_type": "code",
   "execution_count": 14,
   "source": [
    "train.merge(test, how='inner')"
   ],
   "outputs": [
    {
     "output_type": "execute_result",
     "data": {
      "text/html": [
       "<div>\n",
       "<style scoped>\n",
       "    .dataframe tbody tr th:only-of-type {\n",
       "        vertical-align: middle;\n",
       "    }\n",
       "\n",
       "    .dataframe tbody tr th {\n",
       "        vertical-align: top;\n",
       "    }\n",
       "\n",
       "    .dataframe thead th {\n",
       "        text-align: right;\n",
       "    }\n",
       "</style>\n",
       "<table border=\"1\" class=\"dataframe\">\n",
       "  <thead>\n",
       "    <tr style=\"text-align: right;\">\n",
       "      <th></th>\n",
       "      <th>src_ind</th>\n",
       "      <th>dst_ind</th>\n",
       "    </tr>\n",
       "  </thead>\n",
       "  <tbody>\n",
       "  </tbody>\n",
       "</table>\n",
       "</div>"
      ],
      "text/plain": [
       "Empty DataFrame\n",
       "Columns: [src_ind, dst_ind]\n",
       "Index: []"
      ]
     },
     "metadata": {},
     "execution_count": 14
    }
   ],
   "metadata": {}
  },
  {
   "cell_type": "code",
   "execution_count": 15,
   "source": [
    "train.merge(test_neg, how='inner')"
   ],
   "outputs": [
    {
     "output_type": "execute_result",
     "data": {
      "text/html": [
       "<div>\n",
       "<style scoped>\n",
       "    .dataframe tbody tr th:only-of-type {\n",
       "        vertical-align: middle;\n",
       "    }\n",
       "\n",
       "    .dataframe tbody tr th {\n",
       "        vertical-align: top;\n",
       "    }\n",
       "\n",
       "    .dataframe thead th {\n",
       "        text-align: right;\n",
       "    }\n",
       "</style>\n",
       "<table border=\"1\" class=\"dataframe\">\n",
       "  <thead>\n",
       "    <tr style=\"text-align: right;\">\n",
       "      <th></th>\n",
       "      <th>src_ind</th>\n",
       "      <th>dst_ind</th>\n",
       "    </tr>\n",
       "  </thead>\n",
       "  <tbody>\n",
       "    <tr>\n",
       "      <th>0</th>\n",
       "      <td>32815</td>\n",
       "      <td>55721</td>\n",
       "    </tr>\n",
       "    <tr>\n",
       "      <th>1</th>\n",
       "      <td>29818</td>\n",
       "      <td>54122</td>\n",
       "    </tr>\n",
       "    <tr>\n",
       "      <th>2</th>\n",
       "      <td>29818</td>\n",
       "      <td>18914</td>\n",
       "    </tr>\n",
       "    <tr>\n",
       "      <th>3</th>\n",
       "      <td>13919</td>\n",
       "      <td>10173</td>\n",
       "    </tr>\n",
       "    <tr>\n",
       "      <th>4</th>\n",
       "      <td>53694</td>\n",
       "      <td>47483</td>\n",
       "    </tr>\n",
       "    <tr>\n",
       "      <th>...</th>\n",
       "      <td>...</td>\n",
       "      <td>...</td>\n",
       "    </tr>\n",
       "    <tr>\n",
       "      <th>545</th>\n",
       "      <td>29818</td>\n",
       "      <td>43200</td>\n",
       "    </tr>\n",
       "    <tr>\n",
       "      <th>546</th>\n",
       "      <td>39216</td>\n",
       "      <td>54304</td>\n",
       "    </tr>\n",
       "    <tr>\n",
       "      <th>547</th>\n",
       "      <td>59164</td>\n",
       "      <td>41775</td>\n",
       "    </tr>\n",
       "    <tr>\n",
       "      <th>548</th>\n",
       "      <td>59164</td>\n",
       "      <td>56</td>\n",
       "    </tr>\n",
       "    <tr>\n",
       "      <th>549</th>\n",
       "      <td>19467</td>\n",
       "      <td>59243</td>\n",
       "    </tr>\n",
       "  </tbody>\n",
       "</table>\n",
       "<p>550 rows × 2 columns</p>\n",
       "</div>"
      ],
      "text/plain": [
       "     src_ind  dst_ind\n",
       "0      32815    55721\n",
       "1      29818    54122\n",
       "2      29818    18914\n",
       "3      13919    10173\n",
       "4      53694    47483\n",
       "..       ...      ...\n",
       "545    29818    43200\n",
       "546    39216    54304\n",
       "547    59164    41775\n",
       "548    59164       56\n",
       "549    19467    59243\n",
       "\n",
       "[550 rows x 2 columns]"
      ]
     },
     "metadata": {},
     "execution_count": 15
    }
   ],
   "metadata": {}
  },
  {
   "cell_type": "code",
   "execution_count": 16,
   "source": [
    "train.merge(test_neg_user, how='inner')"
   ],
   "outputs": [
    {
     "output_type": "execute_result",
     "data": {
      "text/html": [
       "<div>\n",
       "<style scoped>\n",
       "    .dataframe tbody tr th:only-of-type {\n",
       "        vertical-align: middle;\n",
       "    }\n",
       "\n",
       "    .dataframe tbody tr th {\n",
       "        vertical-align: top;\n",
       "    }\n",
       "\n",
       "    .dataframe thead th {\n",
       "        text-align: right;\n",
       "    }\n",
       "</style>\n",
       "<table border=\"1\" class=\"dataframe\">\n",
       "  <thead>\n",
       "    <tr style=\"text-align: right;\">\n",
       "      <th></th>\n",
       "      <th>src_ind</th>\n",
       "      <th>dst_ind</th>\n",
       "    </tr>\n",
       "  </thead>\n",
       "  <tbody>\n",
       "    <tr>\n",
       "      <th>0</th>\n",
       "      <td>56679</td>\n",
       "      <td>62321</td>\n",
       "    </tr>\n",
       "    <tr>\n",
       "      <th>1</th>\n",
       "      <td>13693</td>\n",
       "      <td>30480</td>\n",
       "    </tr>\n",
       "    <tr>\n",
       "      <th>2</th>\n",
       "      <td>17633</td>\n",
       "      <td>35366</td>\n",
       "    </tr>\n",
       "    <tr>\n",
       "      <th>3</th>\n",
       "      <td>1570</td>\n",
       "      <td>14043</td>\n",
       "    </tr>\n",
       "    <tr>\n",
       "      <th>4</th>\n",
       "      <td>39236</td>\n",
       "      <td>17084</td>\n",
       "    </tr>\n",
       "    <tr>\n",
       "      <th>...</th>\n",
       "      <td>...</td>\n",
       "      <td>...</td>\n",
       "    </tr>\n",
       "    <tr>\n",
       "      <th>89</th>\n",
       "      <td>29818</td>\n",
       "      <td>39242</td>\n",
       "    </tr>\n",
       "    <tr>\n",
       "      <th>90</th>\n",
       "      <td>14360</td>\n",
       "      <td>4684</td>\n",
       "    </tr>\n",
       "    <tr>\n",
       "      <th>91</th>\n",
       "      <td>18172</td>\n",
       "      <td>41727</td>\n",
       "    </tr>\n",
       "    <tr>\n",
       "      <th>92</th>\n",
       "      <td>5656</td>\n",
       "      <td>35871</td>\n",
       "    </tr>\n",
       "    <tr>\n",
       "      <th>93</th>\n",
       "      <td>60315</td>\n",
       "      <td>36854</td>\n",
       "    </tr>\n",
       "  </tbody>\n",
       "</table>\n",
       "<p>94 rows × 2 columns</p>\n",
       "</div>"
      ],
      "text/plain": [
       "    src_ind  dst_ind\n",
       "0     56679    62321\n",
       "1     13693    30480\n",
       "2     17633    35366\n",
       "3      1570    14043\n",
       "4     39236    17084\n",
       "..      ...      ...\n",
       "89    29818    39242\n",
       "90    14360     4684\n",
       "91    18172    41727\n",
       "92     5656    35871\n",
       "93    60315    36854\n",
       "\n",
       "[94 rows x 2 columns]"
      ]
     },
     "metadata": {},
     "execution_count": 16
    }
   ],
   "metadata": {}
  },
  {
   "cell_type": "code",
   "execution_count": 17,
   "source": [
    "len(train)"
   ],
   "outputs": [
    {
     "output_type": "execute_result",
     "data": {
      "text/plain": [
       "65769"
      ]
     },
     "metadata": {},
     "execution_count": 17
    }
   ],
   "metadata": {}
  },
  {
   "cell_type": "code",
   "execution_count": null,
   "source": [],
   "outputs": [],
   "metadata": {}
  }
 ],
 "metadata": {
  "kernelspec": {
   "name": "python3",
   "display_name": "Python 3.6.5 64-bit"
  },
  "language_info": {
   "codemirror_mode": {
    "name": "ipython",
    "version": 3
   },
   "file_extension": ".py",
   "mimetype": "text/x-python",
   "name": "python",
   "nbconvert_exporter": "python",
   "pygments_lexer": "ipython3",
   "version": "3.6.5"
  },
  "interpreter": {
   "hash": "4cd7ab41f5fca4b9b44701077e38c5ffd31fe66a6cab21e0214b68d958d0e462"
  }
 },
 "nbformat": 4,
 "nbformat_minor": 2
}