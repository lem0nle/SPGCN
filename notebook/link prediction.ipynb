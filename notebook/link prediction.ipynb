{
 "cells": [
  {
   "cell_type": "code",
   "execution_count": 1,
   "metadata": {},
   "outputs": [
    {
     "name": "stderr",
     "output_type": "stream",
     "text": [
      "Using backend: pytorch\n"
     ]
    }
   ],
   "source": [
    "import torch\n",
    "import torch.nn as nn\n",
    "import torch.nn.functional as F\n",
    "import dgl\n",
    "import dgl.nn as dglnn\n",
    "import dgl.function as fn\n",
    "import pandas as pd"
   ]
  },
  {
   "cell_type": "code",
   "execution_count": 2,
   "metadata": {},
   "outputs": [],
   "source": [
    "class DotProductPredictor(nn.Module):\n",
    "    def forward(self, graph, h):\n",
    "        # h是从5.1节的GNN模型中计算出的节点表示\n",
    "        with graph.local_scope():\n",
    "            graph.ndata['h'] = h\n",
    "            graph.apply_edges(fn.u_dot_v('h', 'h', 'score'))\n",
    "            return graph.edata['score']"
   ]
  },
  {
   "cell_type": "code",
   "execution_count": 3,
   "metadata": {},
   "outputs": [],
   "source": [
    "class SAGE(nn.Module):\n",
    "    def __init__(self, in_feats, hid_feats, out_feats):\n",
    "        super().__init__()\n",
    "        # 实例化SAGEConve，in_feats是输入特征的维度，out_feats是输出特征的维度，aggregator_type是聚合函数的类型\n",
    "        self.conv1 = dglnn.SAGEConv(\n",
    "            in_feats=in_feats, out_feats=hid_feats, aggregator_type='mean')\n",
    "        self.conv2 = dglnn.SAGEConv(\n",
    "            in_feats=hid_feats, out_feats=out_feats, aggregator_type='mean')\n",
    "\n",
    "    def forward(self, graph, inputs):\n",
    "        # 输入是节点的特征\n",
    "        h = self.conv1(graph, inputs)\n",
    "        h = F.relu(h)\n",
    "        h = self.conv2(graph, h)\n",
    "        return h"
   ]
  },
  {
   "cell_type": "code",
   "execution_count": 4,
   "metadata": {},
   "outputs": [],
   "source": [
    "class Model(nn.Module):\n",
    "    def __init__(self, in_features, hidden_features, out_features):\n",
    "        super().__init__()\n",
    "        self.sage = SAGE(in_features, hidden_features, out_features)\n",
    "        self.pred = DotProductPredictor()\n",
    "    def forward(self, g, neg_g, x):\n",
    "        h = self.sage(g, x)\n",
    "        return self.pred(g, h), self.pred(neg_g, h)"
   ]
  },
  {
   "cell_type": "code",
   "execution_count": 5,
   "metadata": {},
   "outputs": [],
   "source": [
    "def construct_negative_graph(graph, k):\n",
    "    src, dst = graph.edges()\n",
    "\n",
    "    neg_src = src.repeat_interleave(k)\n",
    "    neg_dst = torch.randint(0, graph.num_nodes(), (len(src) * k,))\n",
    "    return dgl.graph((neg_src, neg_dst), num_nodes=graph.num_nodes())\n",
    "\n",
    "def compute_loss(pos_score, neg_score):\n",
    "    # 间隔损失\n",
    "    n_edges = pos_score.shape[0]\n",
    "    return (1 - pos_score.unsqueeze(1) + neg_score.view(n_edges, -1)).clamp(min=0).mean()"
   ]
  },
  {
   "cell_type": "code",
   "execution_count": 6,
   "metadata": {},
   "outputs": [],
   "source": [
    "train_df = pd.read_csv('../tyc_cm/train_df.csv')\n",
    "valid_df = pd.read_csv('../tyc_cm/valid_df.csv')\n",
    "test_df = pd.read_csv('../tyc_cm/test_df.csv')\n",
    "test_neg_df = pd.read_csv('../tyc_cm/test_neg_df.csv')\n",
    "\n",
    "train_graph = dgl.graph((train_df.src_ind, train_df.dst_ind), num_nodes=64424)\n",
    "valid_graph = dgl.graph((valid_df.src_ind, valid_df.dst_ind), num_nodes=64424)\n",
    "test_graph = dgl.graph((test_df.src_ind, test_df.dst_ind), num_nodes=64424)\n",
    "test_neg_graph = dgl.graph((test_neg_df.src_ind, test_neg_df.dst_ind), num_nodes=64424)"
   ]
  },
  {
   "cell_type": "code",
   "execution_count": null,
   "metadata": {},
   "outputs": [],
   "source": [
    "node_features = torch.rand(train_graph.num_nodes(), 100)\n",
    "n_features = node_features.shape[1]\n",
    "k = 5\n",
    "model = Model(n_features, 100, 100)\n",
    "opt = torch.optim.Adam(model.parameters())\n",
    "for epoch in range(10):\n",
    "    negative_graph = construct_negative_graph(train_graph, k)\n",
    "    pos_score, neg_score = model(train_graph, negative_graph, node_features)\n",
    "    loss = compute_loss(pos_score, neg_score)\n",
    "    opt.zero_grad()\n",
    "    loss.backward()\n",
    "    opt.step()\n",
    "    print(loss.item())"
   ]
  },
  {
   "cell_type": "code",
   "execution_count": null,
   "metadata": {},
   "outputs": [],
   "source": []
  }
 ],
 "metadata": {
  "kernelspec": {
   "display_name": "Python 3",
   "language": "python",
   "name": "python3"
  },
  "language_info": {
   "codemirror_mode": {
    "name": "ipython",
    "version": 3
   },
   "file_extension": ".py",
   "mimetype": "text/x-python",
   "name": "python",
   "nbconvert_exporter": "python",
   "pygments_lexer": "ipython3",
   "version": "3.6.5"
  }
 },
 "nbformat": 4,
 "nbformat_minor": 2
}
