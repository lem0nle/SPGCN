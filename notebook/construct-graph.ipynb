{
 "cells": [
  {
   "cell_type": "code",
   "execution_count": 1,
   "source": [
    "rpath = '../data/raw/'\n",
    "wpath = '../data/tyc/'"
   ],
   "outputs": [],
   "metadata": {}
  },
  {
   "cell_type": "markdown",
   "source": [
    "抽取公司字典（url->名称）、每个公司的投资机构："
   ],
   "metadata": {}
  },
  {
   "cell_type": "code",
   "execution_count": 2,
   "source": [
    "comp_dict = {}\n",
    "org_comp = {}\n",
    "\n",
    "for line in open(rpath + 'company_total.json', encoding='utf-8'):\n",
    "    line = eval(line)\n",
    "    comp_id, comp_name = line['id'], line['名称']\n",
    "    comp_dict[comp_id] = comp_name\n",
    "    \n",
    "    org = line.get('投资机构')\n",
    "    # 投资机构不存在或者为空列表\n",
    "    if not org:\n",
    "        continue\n",
    "    org_comp[org[0]] = comp_id"
   ],
   "outputs": [],
   "metadata": {}
  },
  {
   "cell_type": "code",
   "execution_count": 3,
   "source": [
    "len(comp_dict), len(org_comp)"
   ],
   "outputs": [
    {
     "output_type": "execute_result",
     "data": {
      "text/plain": [
       "(92524, 2441)"
      ]
     },
     "metadata": {},
     "execution_count": 3
    }
   ],
   "metadata": {}
  },
  {
   "cell_type": "markdown",
   "source": [
    "这样抽取只有2k多个公司有投资机构，需要通过投资机构的基金管理人扩充公司和机构的对应关系。\n",
    "\n",
    "从机构信息中抽取基金管理人、投资事件（公开和未公开）："
   ],
   "metadata": {}
  },
  {
   "cell_type": "code",
   "execution_count": 4,
   "source": [
    "org_dict = {}\n",
    "org_manager = {}\n",
    "org_gk = {}\n",
    "org_wgk = {}\n",
    "\n",
    "for line in open(rpath + 'organize_all.json', encoding='utf-8'):\n",
    "    line = eval(line)\n",
    "    org_id, man, gk, wgk = line['id'], line.get('基金管理人'), line.get('公开投资事件'), line.get('未公开投资')\n",
    "    org_dict[org_id] = line.get('名称')\n",
    "    if man:\n",
    "        org_manager[org_id] = [c['企业名称ID'] for c in man]\n",
    "    if gk:\n",
    "        org_gk[org_id] = [c['CompanyID'] for c in gk if 'CompanyID' in c]\n",
    "    if wgk:\n",
    "        org_wgk[org_id] = [c['企业名称ID'] for c in wgk]"
   ],
   "outputs": [],
   "metadata": {}
  },
  {
   "cell_type": "code",
   "execution_count": 5,
   "source": [
    "len(org_dict), len(org_manager), len(org_gk), len(org_wgk)"
   ],
   "outputs": [
    {
     "output_type": "execute_result",
     "data": {
      "text/plain": [
       "(14290, 5691, 13336, 10127)"
      ]
     },
     "metadata": {},
     "execution_count": 5
    }
   ],
   "metadata": {}
  },
  {
   "cell_type": "markdown",
   "source": [
    "org_id 与 comp_id 一一对应，将company和organize数据的comp-org对应关系合并"
   ],
   "metadata": {}
  },
  {
   "cell_type": "code",
   "execution_count": 6,
   "source": [
    "org_comp_total = org_comp\n",
    "for k, v in org_manager.items():\n",
    "    org_comp_total[k] = v[0]"
   ],
   "outputs": [],
   "metadata": {}
  },
  {
   "cell_type": "code",
   "execution_count": 7,
   "source": [
    "len(org_comp_total)"
   ],
   "outputs": [
    {
     "output_type": "execute_result",
     "data": {
      "text/plain": [
       "7345"
      ]
     },
     "metadata": {},
     "execution_count": 7
    }
   ],
   "metadata": {}
  },
  {
   "cell_type": "markdown",
   "source": [
    "用工商追踪数据补充投资事件："
   ],
   "metadata": {}
  },
  {
   "cell_type": "code",
   "execution_count": 8,
   "source": [
    "org_gszz = {}\n",
    "\n",
    "for line in open(rpath + 'organize_all.json', encoding='utf-8'):\n",
    "    line = eval(line)\n",
    "    org_id, gszz = line['id'], line.get('工商追踪')\n",
    "    if gszz:\n",
    "        org_gszz[org_id] = []\n",
    "        for rec in gszz:\n",
    "            content = rec['内容']\n",
    "            if '对外投资' in content['文本']:\n",
    "                org_gszz[org_id].append((content['CompanyID'], content['公司名称'], rec['投资日期'], content.get('投资比例')))"
   ],
   "outputs": [],
   "metadata": {}
  },
  {
   "cell_type": "code",
   "execution_count": 9,
   "source": [
    "sum(len(v) for v in org_gszz.values())"
   ],
   "outputs": [
    {
     "output_type": "execute_result",
     "data": {
      "text/plain": [
       "96205"
      ]
     },
     "metadata": {},
     "execution_count": 9
    }
   ],
   "metadata": {}
  },
  {
   "cell_type": "markdown",
   "source": [
    "为公司编号："
   ],
   "metadata": {}
  },
  {
   "cell_type": "code",
   "execution_count": 10,
   "source": [
    "comp_list = list(org_comp_total.values())\n",
    "for c in org_gk.values():\n",
    "    comp_list.extend(c)\n",
    "for c in org_wgk.values():\n",
    "    comp_list.extend(c)\n",
    "    \n",
    "for rec in org_gszz.values():\n",
    "    comp_list.extend(list(list(zip(*rec))[0]))\n",
    "\n",
    "comp_list = list(set(c for c in comp_list if 'company' in c) & comp_dict.keys())\n",
    "comp_list.sort()\n",
    "comp_ind = {v: k for k, v in enumerate(comp_list)}"
   ],
   "outputs": [],
   "metadata": {}
  },
  {
   "cell_type": "markdown",
   "source": [
    "保存公司标号、url和名称的对应："
   ],
   "metadata": {}
  },
  {
   "cell_type": "code",
   "execution_count": 11,
   "source": [
    "import pandas as pd\n",
    "\n",
    "df = pd.DataFrame({ 'cid': comp_list, 'cname': [comp_dict[c] for c in comp_list] })\n",
    "df.to_csv(wpath + 'comps.csv', index=False)"
   ],
   "outputs": [],
   "metadata": {}
  },
  {
   "cell_type": "code",
   "execution_count": 12,
   "source": [
    "pd.read_csv(wpath + 'comps.csv')"
   ],
   "outputs": [
    {
     "output_type": "execute_result",
     "data": {
      "text/html": [
       "<div>\n",
       "<style scoped>\n",
       "    .dataframe tbody tr th:only-of-type {\n",
       "        vertical-align: middle;\n",
       "    }\n",
       "\n",
       "    .dataframe tbody tr th {\n",
       "        vertical-align: top;\n",
       "    }\n",
       "\n",
       "    .dataframe thead th {\n",
       "        text-align: right;\n",
       "    }\n",
       "</style>\n",
       "<table border=\"1\" class=\"dataframe\">\n",
       "  <thead>\n",
       "    <tr style=\"text-align: right;\">\n",
       "      <th></th>\n",
       "      <th>cid</th>\n",
       "      <th>cname</th>\n",
       "    </tr>\n",
       "  </thead>\n",
       "  <tbody>\n",
       "    <tr>\n",
       "      <th>0</th>\n",
       "      <td>company/1000025524</td>\n",
       "      <td>安徽长丰农村商业银行股份有限公司</td>\n",
       "    </tr>\n",
       "    <tr>\n",
       "      <th>1</th>\n",
       "      <td>company/1000031266</td>\n",
       "      <td>成都全搜索科技有限责任公司</td>\n",
       "    </tr>\n",
       "    <tr>\n",
       "      <th>2</th>\n",
       "      <td>company/1000368393</td>\n",
       "      <td>安徽三联机器人科技有限公司</td>\n",
       "    </tr>\n",
       "    <tr>\n",
       "      <th>3</th>\n",
       "      <td>company/1000406554</td>\n",
       "      <td>广州中包联外经实业有限公司</td>\n",
       "    </tr>\n",
       "    <tr>\n",
       "      <th>4</th>\n",
       "      <td>company/1000516298</td>\n",
       "      <td>成都吉胜科技有限责任公司</td>\n",
       "    </tr>\n",
       "    <tr>\n",
       "      <th>...</th>\n",
       "      <td>...</td>\n",
       "      <td>...</td>\n",
       "    </tr>\n",
       "    <tr>\n",
       "      <th>64421</th>\n",
       "      <td>company/99780228</td>\n",
       "      <td>北京北比信息技术有限公司</td>\n",
       "    </tr>\n",
       "    <tr>\n",
       "      <th>64422</th>\n",
       "      <td>company/998424134</td>\n",
       "      <td>约印大通（天津）资产管理有限公司</td>\n",
       "    </tr>\n",
       "    <tr>\n",
       "      <th>64423</th>\n",
       "      <td>company/99871402</td>\n",
       "      <td>北京红龙文化传媒有限公司</td>\n",
       "    </tr>\n",
       "    <tr>\n",
       "      <th>64424</th>\n",
       "      <td>company/998961890</td>\n",
       "      <td>福建省蓝深环保技术股份有限公司</td>\n",
       "    </tr>\n",
       "    <tr>\n",
       "      <th>64425</th>\n",
       "      <td>company/999224727</td>\n",
       "      <td>安徽拓吉泰新型陶瓷科技有限公司</td>\n",
       "    </tr>\n",
       "  </tbody>\n",
       "</table>\n",
       "<p>64426 rows × 2 columns</p>\n",
       "</div>"
      ],
      "text/plain": [
       "                      cid             cname\n",
       "0      company/1000025524  安徽长丰农村商业银行股份有限公司\n",
       "1      company/1000031266     成都全搜索科技有限责任公司\n",
       "2      company/1000368393     安徽三联机器人科技有限公司\n",
       "3      company/1000406554     广州中包联外经实业有限公司\n",
       "4      company/1000516298      成都吉胜科技有限责任公司\n",
       "...                   ...               ...\n",
       "64421    company/99780228      北京北比信息技术有限公司\n",
       "64422   company/998424134  约印大通（天津）资产管理有限公司\n",
       "64423    company/99871402      北京红龙文化传媒有限公司\n",
       "64424   company/998961890   福建省蓝深环保技术股份有限公司\n",
       "64425   company/999224727   安徽拓吉泰新型陶瓷科技有限公司\n",
       "\n",
       "[64426 rows x 2 columns]"
      ]
     },
     "metadata": {},
     "execution_count": 12
    }
   ],
   "metadata": {}
  },
  {
   "cell_type": "markdown",
   "source": [
    "所有投资事件，包括工商追踪和公开投资（未公开投资没有时间）："
   ],
   "metadata": {}
  },
  {
   "cell_type": "code",
   "execution_count": 13,
   "source": [
    "touzi_all = {}        \n",
    "\n",
    "for line in open(rpath + 'organize_all.json', encoding='utf-8'):\n",
    "    line = eval(line)\n",
    "    org_id, gszz, gktz = line['id'], line.get('工商追踪'), line.get('公开投资事件')\n",
    "    if org_id not in org_comp_total:\n",
    "        # print(org_id)\n",
    "        continue\n",
    "\n",
    "    if gszz:\n",
    "        for rec in gszz:\n",
    "            content = rec['内容']\n",
    "            if '对外投资' in content['文本']:\n",
    "                touzi_all[(org_comp_total[org_id], content['CompanyID'])] = rec['投资日期']\n",
    "\n",
    "    if gktz:\n",
    "        for rec in gktz:\n",
    "            if 'CompanyID' not in rec:\n",
    "                continue\n",
    "            touzi_all[(org_comp_total[org_id], rec['CompanyID'])] = rec['投资时间']"
   ],
   "outputs": [],
   "metadata": {}
  },
  {
   "cell_type": "code",
   "execution_count": 14,
   "source": [
    "import csv\n",
    "\n",
    "with open(wpath + 'comp_touzi_comp.csv', 'w', encoding='utf-8') as csvfile:\n",
    "    writer = csv.writer(csvfile)\n",
    "    writer.writerow(['src_cid', 'src_cname', 'src_ind', 'dst_cid', 'dst_cname', 'dst_ind', 'date'])\n",
    "    for (src_cid, dst_cid), date in touzi_all.items():\n",
    "        if src_cid not in comp_ind or dst_cid not in comp_ind:\n",
    "            continue\n",
    "        if date < '1950-01-01':\n",
    "            continue\n",
    "        writer.writerow([src_cid, comp_dict[src_cid], comp_ind[src_cid], dst_cid, comp_dict[dst_cid], comp_ind[dst_cid], date])"
   ],
   "outputs": [],
   "metadata": {}
  }
 ],
 "metadata": {
  "orig_nbformat": 4,
  "language_info": {
   "name": "python",
   "version": "3.6.5",
   "mimetype": "text/x-python",
   "codemirror_mode": {
    "name": "ipython",
    "version": 3
   },
   "pygments_lexer": "ipython3",
   "nbconvert_exporter": "python",
   "file_extension": ".py"
  },
  "kernelspec": {
   "name": "python3",
   "display_name": "Python 3.6.5 64-bit ('venv': virtualenv)"
  },
  "interpreter": {
   "hash": "4be93a6f70872cf6fd12e290a07ac64af5d49fdf18e20b5a79b6e84eb8f383cd"
  }
 },
 "nbformat": 4,
 "nbformat_minor": 2
}