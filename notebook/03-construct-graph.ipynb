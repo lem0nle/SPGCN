{
 "cells": [
  {
   "cell_type": "code",
   "execution_count": 1,
   "source": [
    "# %load_ext autoreload\n",
    "# %autoreload 2\n",
    "import pickle\n",
    "from collections import Counter\n",
    "import pandas as pd\n",
    "import csv\n",
    "import json\n",
    "\n",
    "rpath = '../data/raw/'\n",
    "wpath = '../data/tyc/'"
   ],
   "outputs": [],
   "metadata": {}
  },
  {
   "cell_type": "markdown",
   "source": [
    "### company 信息抽取\n",
    "* 股东信息: company-human, company-company\n",
    "* 对外投资: company-company\n",
    "* 竞品信息: company-company\n",
    "* 供应商: company-company\n",
    "* 历史股东: company-human, company-company\n",
    "\n",
    "产出：\n",
    "* comp_info.csv：公司数值和分类信息\n",
    "* comp_description.txt：公司分好词的描述文本\n",
    "* comp_gdxx_comp.csv：股东信息，['src_ind', 'src_cid', 'src_cname', 'dst_ind', 'dst_cid', 'dst_cname', 'date']\n",
    "* comp_dwtz_comp.csv：对外投资\n",
    "* comp_jpxx_comp.csv：竞品信息\n",
    "* comp_gys_comp.csv：供应商\n",
    "* comp_lsgd_comp.csv：历史股东"
   ],
   "metadata": {}
  },
  {
   "cell_type": "code",
   "execution_count": 2,
   "source": [
    "# 所有爬过的公司\n",
    "\n",
    "comp_dict = pickle.load(open(wpath + 'comp_dict.pkl', 'rb'))"
   ],
   "outputs": [],
   "metadata": {}
  },
  {
   "cell_type": "code",
   "execution_count": 3,
   "source": [
    "comp_info = {}\n",
    "comp_description = {}\n",
    "comp_gudong = []\n",
    "comp_touzi = []\n",
    "comp_jingpin = []\n",
    "comp_gongying = []\n",
    "comp_lsgudong = []\n",
    "\n",
    "for line in open('../data/raw/company_total.json', encoding='utf-8'):\n",
    "    line = json.loads(line)\n",
    "\n",
    "    comp_id = line['id']\n",
    "\n",
    "    comp_description[comp_id] = line['简介']\n",
    "\n",
    "    comp_info[comp_id] = {}\n",
    "    comp_info[comp_id]['cname'] = line['名称']\n",
    "    comp_info[comp_id]['address'] = line['地址']\n",
    "    comp_info[comp_id]['industry'] = []\n",
    "    for d in line.get('企业业务', []):\n",
    "        if '标签' not in d:\n",
    "            continue\n",
    "        comp_info[comp_id]['industry'].append(d['标签'])\n",
    "\n",
    "    for d in line.get('股东信息', []):\n",
    "        if 'CompanyID' not in d or d['CompanyID'] not in comp_dict:\n",
    "            continue\n",
    "        comp_gudong.append((comp_id, d['CompanyID'], d['持股比例'], d['日期']))\n",
    "\n",
    "    for d in line.get('对外投资', []):\n",
    "        if 'CompanyID' not in d or d['CompanyID'] not in comp_dict:\n",
    "            continue\n",
    "        comp_touzi.append((comp_id, d['CompanyID'], d['投资比例'], d['经营状态'], d['日期']))\n",
    "\n",
    "    for d in line.get('竞品信息', []):\n",
    "        if 'CompanyID' not in d or d['CompanyID'] not in comp_dict:\n",
    "            continue\n",
    "        comp_jingpin.append((comp_id, d['CompanyID'], d['产品标签'], d['日期']))\n",
    "\n",
    "    for d in line.get('供应商', []):\n",
    "        if 'CompanyID' not in d or d['CompanyID'] not in comp_dict:\n",
    "            continue\n",
    "        comp_gongying.append((comp_id, d['CompanyID'], d['日期']))\n",
    "\n",
    "    for d in line.get('历史股东', []):\n",
    "        if 'CompanyID' not in d or d['CompanyID'] not in comp_dict:\n",
    "            continue\n",
    "        comp_lsgudong.append((comp_id, d['CompanyID'], d['持股比例'], d['日期']))"
   ],
   "outputs": [],
   "metadata": {}
  },
  {
   "cell_type": "code",
   "execution_count": 4,
   "source": [
    "comp_graph = {'股东信息 comp_gudong': comp_gudong, '历史股东 comp_lsgudong': comp_lsgudong, '供应商 comp_gongying': comp_gongying, '竞品信息 comp_jingpin': comp_jingpin, '对外投资 comp_touzi': comp_touzi}\n",
    "\n",
    "for k, v in comp_graph.items():\n",
    "    print('#', k, len(v))\n",
    "\n",
    "print(f'# 公司基本信息 comp_info', len(comp_info))\n",
    "print(f'# 公司描述 comp_description', len(comp_description))\n",
    "print('# total', sum([len(v) for v in comp_graph.values()]))"
   ],
   "outputs": [
    {
     "output_type": "stream",
     "name": "stdout",
     "text": [
      "# 股东信息 comp_gudong 38978\n",
      "# 历史股东 comp_lsgudong 15120\n",
      "# 供应商 comp_gongying 25354\n",
      "# 竞品信息 comp_jingpin 116955\n",
      "# 对外投资 comp_touzi 27628\n",
      "# 公司基本信息 comp_info 92524\n",
      "# 公司描述 comp_description 92524\n",
      "# total 224035\n"
     ]
    }
   ],
   "metadata": {}
  },
  {
   "cell_type": "markdown",
   "source": [
    "给全部公司节点编号，顺序为：投资关系公司，其余公司按节点度数从大到小。"
   ],
   "metadata": {}
  },
  {
   "cell_type": "code",
   "execution_count": 5,
   "source": [
    "comps = pd.read_csv(wpath + 'comps.csv')"
   ],
   "outputs": [],
   "metadata": {}
  },
  {
   "cell_type": "code",
   "execution_count": 6,
   "source": [
    "src, dst = [], []\n",
    "for g in comp_graph.values():\n",
    "    src_list, dst_list, *_ = zip(*g)\n",
    "    src.extend(src_list)\n",
    "    dst.extend(dst_list)\n",
    "\n",
    "# [(k1, v1), (k2, v2), ..., (kn, vn)]\n",
    "nodes = src + dst\n",
    "nodes_count = sorted(Counter(nodes).items(), key=lambda x: x[1], reverse=True)"
   ],
   "outputs": [],
   "metadata": {}
  },
  {
   "cell_type": "code",
   "execution_count": 7,
   "source": [
    "len(nodes_count), len(src), len(dst), len(nodes)"
   ],
   "outputs": [
    {
     "output_type": "execute_result",
     "data": {
      "text/plain": [
       "(67388, 224035, 224035, 448070)"
      ]
     },
     "metadata": {},
     "execution_count": 7
    }
   ],
   "metadata": {}
  },
  {
   "cell_type": "code",
   "execution_count": 8,
   "source": [
    "comp_set = set(comps.cid)\n",
    "filtered_nodes = [n for n, _ in nodes_count if n not in comp_set]\n",
    "\n",
    "comp_list = list(comps.cid) + filtered_nodes\n",
    "comp_ind = {v: k for k, v in enumerate(comp_list)}"
   ],
   "outputs": [],
   "metadata": {}
  },
  {
   "cell_type": "code",
   "execution_count": 9,
   "source": [
    "print('# nodes', len(comp_list))"
   ],
   "outputs": [
    {
     "output_type": "stream",
     "name": "stdout",
     "text": [
      "# nodes 75140\n"
     ]
    }
   ],
   "metadata": {}
  },
  {
   "cell_type": "markdown",
   "source": [
    "保存所有公司标号、url和名称的对应："
   ],
   "metadata": {}
  },
  {
   "cell_type": "code",
   "execution_count": 10,
   "source": [
    "df = pd.DataFrame({ 'cid': comp_list, 'cname': [comp_dict[c] for c in comp_list] })\n",
    "df.to_csv(wpath + 'comps_total.csv', index=False)"
   ],
   "outputs": [],
   "metadata": {}
  },
  {
   "cell_type": "markdown",
   "source": [
    "保存公司基本信息："
   ],
   "metadata": {}
  },
  {
   "cell_type": "code",
   "execution_count": 11,
   "source": [
    "comp_info['company/51012764']"
   ],
   "outputs": [
    {
     "output_type": "execute_result",
     "data": {
      "text/plain": [
       "{'cname': '青之白（北京）投资管理有限公司',\n",
       " 'address': '北京市东城区板桥南巷7号北楼(9号楼)一层西侧甲1号',\n",
       " 'industry': ['企业服务', '社交社区']}"
      ]
     },
     "metadata": {},
     "execution_count": 11
    }
   ],
   "metadata": {}
  },
  {
   "cell_type": "code",
   "execution_count": 12,
   "source": [
    "comp_info_df = pd.DataFrame({\n",
    "    'cid': comp_list,\n",
    "    'cname': [comp_dict[cid] for cid in comp_list],\n",
    "    'address': [comp_info[cid]['address'] for cid in comp_list],\n",
    "    'industry': [':'.join(comp_info[cid]['industry']) for cid in comp_list]\n",
    "})\n",
    "\n",
    "comp_info_df.to_csv(wpath + 'comp_info.csv', index=False)"
   ],
   "outputs": [],
   "metadata": {}
  },
  {
   "cell_type": "markdown",
   "source": [
    "保存分好词的公司描述文本："
   ],
   "metadata": {}
  },
  {
   "cell_type": "code",
   "execution_count": 13,
   "source": [
    "import jieba\n",
    "\n",
    "jieba.enable_paddle()\n",
    "stopwords = set(line.strip() for line in open('../data/hit_stopwords.txt', encoding='utf-8'))\n",
    "\n",
    "with open(wpath + 'comp_description.txt', 'w', encoding='utf-8') as f:\n",
    "    for cid in comp_list:\n",
    "        if comp_description[cid].strip() in ['暂无信息', '收起']:\n",
    "            print(file=f)\n",
    "            continue\n",
    "        desc = comp_description[cid].strip().replace('\\n', ' ').replace('\\t', ' ')\n",
    "        segs = [c for c in jieba.cut(desc) if c and c not in stopwords]\n",
    "        print(' '.join(segs), file=f)"
   ],
   "outputs": [
    {
     "output_type": "stream",
     "name": "stderr",
     "text": [
      "Paddle enabled successfully......\n",
      "Building prefix dict from the default dictionary ...\n",
      "Loading model from cache /var/folders/45/mgt8rsp92j72ld6w0xzzf5wm0000gn/T/jieba.cache\n",
      "Loading model cost 1.058 seconds.\n",
      "Prefix dict has been built successfully.\n"
     ]
    }
   ],
   "metadata": {}
  },
  {
   "cell_type": "markdown",
   "source": [
    "保存每种关系图:"
   ],
   "metadata": {}
  },
  {
   "cell_type": "markdown",
   "source": [
    "股东信息："
   ],
   "metadata": {}
  },
  {
   "cell_type": "code",
   "execution_count": 14,
   "source": [
    "comp_gudong[1]"
   ],
   "outputs": [
    {
     "output_type": "execute_result",
     "data": {
      "text/plain": [
       "('company/34111476', 'company/644426904', '6.72%', '2016-01-15')"
      ]
     },
     "metadata": {},
     "execution_count": 14
    }
   ],
   "metadata": {}
  },
  {
   "cell_type": "code",
   "execution_count": 15,
   "source": [
    "# src_ind,src_cid,src_cname,dst_ind,dst_cid,dst_cname,date\n",
    "with open(wpath + 'comp_gudong_comp.csv', 'w', encoding='utf-8') as csvfile:\n",
    "    writer = csv.writer(csvfile)\n",
    "    writer.writerow(['src_ind', 'src_cid', 'src_cname', 'dst_ind', 'dst_cid', 'dst_cname', 'ratio', 'date'])\n",
    "    for src_cid, dst_cid, ratio, date in comp_gudong:\n",
    "        writer.writerow([comp_ind[src_cid], src_cid, comp_dict[src_cid], comp_ind[dst_cid], dst_cid, comp_dict[dst_cid], ratio, date])"
   ],
   "outputs": [],
   "metadata": {}
  },
  {
   "cell_type": "markdown",
   "source": [
    "历史股东："
   ],
   "metadata": {}
  },
  {
   "cell_type": "code",
   "execution_count": 16,
   "source": [
    "comp_lsgudong[10]"
   ],
   "outputs": [
    {
     "output_type": "execute_result",
     "data": {
      "text/plain": [
       "('company/151363476', 'company/167853964', '-', '2018-05-07')"
      ]
     },
     "metadata": {},
     "execution_count": 16
    }
   ],
   "metadata": {}
  },
  {
   "cell_type": "code",
   "execution_count": 17,
   "source": [
    "# src_ind,src_cid,src_cname,dst_ind,dst_cid,dst_cname,date\n",
    "with open(wpath + 'comp_lsgudong_comp.csv', 'w', encoding='utf-8') as csvfile:\n",
    "    writer = csv.writer(csvfile)\n",
    "    writer.writerow(['src_ind', 'src_cid', 'src_cname', 'dst_ind', 'dst_cid', 'dst_cname', 'ratio', 'date'])\n",
    "    for src_cid, dst_cid, ratio, date in comp_lsgudong:\n",
    "        writer.writerow([comp_ind[src_cid], src_cid, comp_dict[src_cid], comp_ind[dst_cid], dst_cid, comp_dict[dst_cid], ratio, date])"
   ],
   "outputs": [],
   "metadata": {}
  },
  {
   "cell_type": "markdown",
   "source": [
    "对外投资："
   ],
   "metadata": {}
  },
  {
   "cell_type": "code",
   "execution_count": 18,
   "source": [
    "comp_touzi[1]"
   ],
   "outputs": [
    {
     "output_type": "execute_result",
     "data": {
      "text/plain": [
       "('company/98664648', 'company/160072541', '100%', '存续', '2003-09-22')"
      ]
     },
     "metadata": {},
     "execution_count": 18
    }
   ],
   "metadata": {}
  },
  {
   "cell_type": "code",
   "execution_count": 19,
   "source": [
    "# src_ind,src_cid,src_cname,dst_ind,dst_cid,dst_cname,date\n",
    "with open(wpath + 'comp_dwtz_comp.csv', 'w', encoding='utf-8') as csvfile:\n",
    "    writer = csv.writer(csvfile)\n",
    "    writer.writerow(['src_ind', 'src_cid', 'src_cname', 'dst_ind', 'dst_cid', 'dst_cname', 'ratio', 'status', 'date'])\n",
    "    for src_cid, dst_cid, ratio, status, date in comp_touzi:\n",
    "        writer.writerow([comp_ind[src_cid], src_cid, comp_dict[src_cid], comp_ind[dst_cid], dst_cid, comp_dict[dst_cid], ratio, status, date])"
   ],
   "outputs": [],
   "metadata": {}
  },
  {
   "cell_type": "markdown",
   "source": [
    "竞品信息："
   ],
   "metadata": {}
  },
  {
   "cell_type": "code",
   "execution_count": 20,
   "source": [
    "comp_jingpin[1]"
   ],
   "outputs": [
    {
     "output_type": "execute_result",
     "data": {
      "text/plain": [
       "('company/34111476', 'company/112622245', '文娱传媒', '2014-11-25')"
      ]
     },
     "metadata": {},
     "execution_count": 20
    }
   ],
   "metadata": {}
  },
  {
   "cell_type": "code",
   "execution_count": 21,
   "source": [
    "# src_ind,src_cid,src_cname,dst_ind,dst_cid,dst_cname,date\n",
    "with open(wpath + 'comp_jingpin_comp.csv', 'w', encoding='utf-8') as csvfile:\n",
    "    writer = csv.writer(csvfile)\n",
    "    writer.writerow(['src_ind', 'src_cid', 'src_cname', 'dst_ind', 'dst_cid', 'dst_cname', 'industry', 'date'])\n",
    "    for src_cid, dst_cid, industry, date in comp_jingpin:\n",
    "        writer.writerow([comp_ind[src_cid], src_cid, comp_dict[src_cid], comp_ind[dst_cid], dst_cid, comp_dict[dst_cid], industry, date])"
   ],
   "outputs": [],
   "metadata": {}
  },
  {
   "cell_type": "markdown",
   "source": [
    "供应商："
   ],
   "metadata": {}
  },
  {
   "cell_type": "code",
   "execution_count": 22,
   "source": [
    "comp_gongying[1]"
   ],
   "outputs": [
    {
     "output_type": "execute_result",
     "data": {
      "text/plain": [
       "('company/3346731739', 'company/2347149784', '2019-04-29')"
      ]
     },
     "metadata": {},
     "execution_count": 22
    }
   ],
   "metadata": {}
  },
  {
   "cell_type": "code",
   "execution_count": 23,
   "source": [
    "# src_ind,src_cid,src_cname,dst_ind,dst_cid,dst_cname,date\n",
    "with open(wpath + 'comp_gongying_comp.csv', 'w', encoding='utf-8') as csvfile:\n",
    "    writer = csv.writer(csvfile)\n",
    "    writer.writerow(['src_ind', 'src_cid', 'src_cname', 'dst_ind', 'dst_cid', 'dst_cname', 'date'])\n",
    "    for src_cid, dst_cid, date in comp_gongying:\n",
    "        writer.writerow([comp_ind[src_cid], src_cid, comp_dict[src_cid], comp_ind[dst_cid], dst_cid, comp_dict[dst_cid], date])"
   ],
   "outputs": [],
   "metadata": {}
  }
 ],
 "metadata": {
  "orig_nbformat": 4,
  "language_info": {
   "name": "python",
   "version": "3.6.5",
   "mimetype": "text/x-python",
   "codemirror_mode": {
    "name": "ipython",
    "version": 3
   },
   "pygments_lexer": "ipython3",
   "nbconvert_exporter": "python",
   "file_extension": ".py"
  },
  "kernelspec": {
   "name": "python3",
   "display_name": "Python 3.6.5 64-bit ('venv': virtualenv)"
  },
  "interpreter": {
   "hash": "4be93a6f70872cf6fd12e290a07ac64af5d49fdf18e20b5a79b6e84eb8f383cd"
  }
 },
 "nbformat": 4,
 "nbformat_minor": 2
}