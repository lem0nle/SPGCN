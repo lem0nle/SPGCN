{
 "cells": [
  {
   "cell_type": "code",
   "execution_count": 1,
   "metadata": {},
   "outputs": [],
   "source": [
    "import pandas\n",
    "import numpy as np"
   ]
  },
  {
   "cell_type": "code",
   "execution_count": 3,
   "metadata": {},
   "outputs": [],
   "source": [
    "data = pandas.read_csv('../data/comp_touzi_comp.csv')"
   ]
  },
  {
   "cell_type": "code",
   "execution_count": 4,
   "metadata": {},
   "outputs": [],
   "source": [
    "df = data.set_index(data['date'])\n",
    "df = df.sort_index()"
   ]
  },
  {
   "cell_type": "code",
   "execution_count": 5,
   "metadata": {},
   "outputs": [
    {
     "data": {
      "text/html": [
       "<div>\n",
       "<style scoped>\n",
       "    .dataframe tbody tr th:only-of-type {\n",
       "        vertical-align: middle;\n",
       "    }\n",
       "\n",
       "    .dataframe tbody tr th {\n",
       "        vertical-align: top;\n",
       "    }\n",
       "\n",
       "    .dataframe thead th {\n",
       "        text-align: right;\n",
       "    }\n",
       "</style>\n",
       "<table border=\"1\" class=\"dataframe\">\n",
       "  <thead>\n",
       "    <tr style=\"text-align: right;\">\n",
       "      <th></th>\n",
       "      <th>src_cid</th>\n",
       "      <th>src_cname</th>\n",
       "      <th>src_ind</th>\n",
       "      <th>dst_cid</th>\n",
       "      <th>dst_cname</th>\n",
       "      <th>dst_ind</th>\n",
       "      <th>date</th>\n",
       "    </tr>\n",
       "    <tr>\n",
       "      <th>date</th>\n",
       "      <th></th>\n",
       "      <th></th>\n",
       "      <th></th>\n",
       "      <th></th>\n",
       "      <th></th>\n",
       "      <th></th>\n",
       "      <th></th>\n",
       "    </tr>\n",
       "  </thead>\n",
       "  <tbody>\n",
       "    <tr>\n",
       "      <th>1985-08-20</th>\n",
       "      <td>company/24212775</td>\n",
       "      <td>天津津融投资服务集团有限公司</td>\n",
       "      <td>52876</td>\n",
       "      <td>company/264022019</td>\n",
       "      <td>天津国际联合轮胎橡胶股份有限公司</td>\n",
       "      <td>58084</td>\n",
       "      <td>1985-08-20</td>\n",
       "    </tr>\n",
       "    <tr>\n",
       "      <th>1989-06-01</th>\n",
       "      <td>company/146170414</td>\n",
       "      <td>中冶建工集团有限公司</td>\n",
       "      <td>44829</td>\n",
       "      <td>company/7507939</td>\n",
       "      <td>中冶宝钢技术服务有限公司</td>\n",
       "      <td>54495</td>\n",
       "      <td>1989-06-01</td>\n",
       "    </tr>\n",
       "    <tr>\n",
       "      <th>1990-03-19</th>\n",
       "      <td>company/367314478</td>\n",
       "      <td>东证锦信投资管理有限公司</td>\n",
       "      <td>42430</td>\n",
       "      <td>company/6941042</td>\n",
       "      <td>虎彩印艺股份有限公司</td>\n",
       "      <td>5430</td>\n",
       "      <td>1990-03-19</td>\n",
       "    </tr>\n",
       "    <tr>\n",
       "      <th>1991-03-11</th>\n",
       "      <td>company/353779474</td>\n",
       "      <td>广东省广晟资产经营有限公司</td>\n",
       "      <td>34874</td>\n",
       "      <td>company/816472108</td>\n",
       "      <td>深圳市长城惠华集团有限公司</td>\n",
       "      <td>8369</td>\n",
       "      <td>1991-03-11</td>\n",
       "    </tr>\n",
       "    <tr>\n",
       "      <th>1991-05-01</th>\n",
       "      <td>company/25731673</td>\n",
       "      <td>江阴海澜创业投资有限公司</td>\n",
       "      <td>48883</td>\n",
       "      <td>company/3208046385</td>\n",
       "      <td>华泰证券股份有限公司</td>\n",
       "      <td>64401</td>\n",
       "      <td>1991-05-01</td>\n",
       "    </tr>\n",
       "    <tr>\n",
       "      <th>...</th>\n",
       "      <td>...</td>\n",
       "      <td>...</td>\n",
       "      <td>...</td>\n",
       "      <td>...</td>\n",
       "      <td>...</td>\n",
       "      <td>...</td>\n",
       "      <td>...</td>\n",
       "    </tr>\n",
       "    <tr>\n",
       "      <th>2020-11-30</th>\n",
       "      <td>company/3152144800</td>\n",
       "      <td>新余昆诺投资管理有限公司</td>\n",
       "      <td>57288</td>\n",
       "      <td>company/3224097797</td>\n",
       "      <td>北京十荟科技有限公司</td>\n",
       "      <td>5686</td>\n",
       "      <td>2020-11-30</td>\n",
       "    </tr>\n",
       "    <tr>\n",
       "      <th>2020-11-30</th>\n",
       "      <td>company/13027951</td>\n",
       "      <td>和才（天津）股权投资基金管理有限公司</td>\n",
       "      <td>31442</td>\n",
       "      <td>company/227664287</td>\n",
       "      <td>天津达因建材有限公司</td>\n",
       "      <td>32386</td>\n",
       "      <td>2020-11-30</td>\n",
       "    </tr>\n",
       "    <tr>\n",
       "      <th>2020-11-30</th>\n",
       "      <td>company/113671400</td>\n",
       "      <td>北京文资数码投资管理有限公司</td>\n",
       "      <td>62980</td>\n",
       "      <td>company/28702414</td>\n",
       "      <td>北京伟德杰生物科技有限公司</td>\n",
       "      <td>18431</td>\n",
       "      <td>2020-11-30</td>\n",
       "    </tr>\n",
       "    <tr>\n",
       "      <th>2020-11-30</th>\n",
       "      <td>company/3205251539</td>\n",
       "      <td>北京创客小镇资产管理有限公司</td>\n",
       "      <td>4817</td>\n",
       "      <td>company/3118377604</td>\n",
       "      <td>深圳市得一微电子有限责任公司</td>\n",
       "      <td>54816</td>\n",
       "      <td>2020-11-30</td>\n",
       "    </tr>\n",
       "    <tr>\n",
       "      <th>2020-11-30</th>\n",
       "      <td>company/3389874109</td>\n",
       "      <td>上海张江浩珩创新股权投资管理有限公司</td>\n",
       "      <td>20772</td>\n",
       "      <td>company/2314841725</td>\n",
       "      <td>上海海栎创微电子有限公司</td>\n",
       "      <td>48084</td>\n",
       "      <td>2020-11-30</td>\n",
       "    </tr>\n",
       "  </tbody>\n",
       "</table>\n",
       "<p>78114 rows × 7 columns</p>\n",
       "</div>"
      ],
      "text/plain": [
       "                       src_cid           src_cname  src_ind  \\\n",
       "date                                                          \n",
       "1985-08-20    company/24212775      天津津融投资服务集团有限公司    52876   \n",
       "1989-06-01   company/146170414          中冶建工集团有限公司    44829   \n",
       "1990-03-19   company/367314478        东证锦信投资管理有限公司    42430   \n",
       "1991-03-11   company/353779474       广东省广晟资产经营有限公司    34874   \n",
       "1991-05-01    company/25731673        江阴海澜创业投资有限公司    48883   \n",
       "...                        ...                 ...      ...   \n",
       "2020-11-30  company/3152144800        新余昆诺投资管理有限公司    57288   \n",
       "2020-11-30    company/13027951  和才（天津）股权投资基金管理有限公司    31442   \n",
       "2020-11-30   company/113671400      北京文资数码投资管理有限公司    62980   \n",
       "2020-11-30  company/3205251539      北京创客小镇资产管理有限公司     4817   \n",
       "2020-11-30  company/3389874109  上海张江浩珩创新股权投资管理有限公司    20772   \n",
       "\n",
       "                       dst_cid         dst_cname  dst_ind        date  \n",
       "date                                                                   \n",
       "1985-08-20   company/264022019  天津国际联合轮胎橡胶股份有限公司    58084  1985-08-20  \n",
       "1989-06-01     company/7507939      中冶宝钢技术服务有限公司    54495  1989-06-01  \n",
       "1990-03-19     company/6941042        虎彩印艺股份有限公司     5430  1990-03-19  \n",
       "1991-03-11   company/816472108     深圳市长城惠华集团有限公司     8369  1991-03-11  \n",
       "1991-05-01  company/3208046385        华泰证券股份有限公司    64401  1991-05-01  \n",
       "...                        ...               ...      ...         ...  \n",
       "2020-11-30  company/3224097797        北京十荟科技有限公司     5686  2020-11-30  \n",
       "2020-11-30   company/227664287        天津达因建材有限公司    32386  2020-11-30  \n",
       "2020-11-30    company/28702414     北京伟德杰生物科技有限公司    18431  2020-11-30  \n",
       "2020-11-30  company/3118377604    深圳市得一微电子有限责任公司    54816  2020-11-30  \n",
       "2020-11-30  company/2314841725      上海海栎创微电子有限公司    48084  2020-11-30  \n",
       "\n",
       "[78114 rows x 7 columns]"
      ]
     },
     "execution_count": 5,
     "metadata": {},
     "output_type": "execute_result"
    }
   ],
   "source": [
    "df"
   ]
  },
  {
   "cell_type": "code",
   "execution_count": 24,
   "metadata": {},
   "outputs": [
    {
     "data": {
      "text/plain": [
       "(64411, 64423)"
      ]
     },
     "execution_count": 24,
     "metadata": {},
     "output_type": "execute_result"
    }
   ],
   "source": [
    "data.src_ind.max(), data.dst_ind.max()"
   ]
  },
  {
   "cell_type": "code",
   "execution_count": 35,
   "metadata": {},
   "outputs": [],
   "source": [
    "train_df, valid_df, test_df = df[:'2018-12-31'][['src_ind', 'dst_ind', 'date']], df['2019-01-01':'2019-12-31'][['src_ind', 'dst_ind', 'date']], df['2020-01-01':][['src_ind', 'dst_ind', 'date']]"
   ]
  },
  {
   "cell_type": "code",
   "execution_count": 38,
   "metadata": {},
   "outputs": [
    {
     "data": {
      "text/plain": [
       "(0.8419617482141486, 0.099534014389226, 0.05850423739662544)"
      ]
     },
     "execution_count": 38,
     "metadata": {},
     "output_type": "execute_result"
    }
   ],
   "source": [
    "len(train_df)/78114, len(valid_df)/78114, len(test_df)/78114"
   ]
  },
  {
   "cell_type": "code",
   "execution_count": 47,
   "metadata": {},
   "outputs": [],
   "source": [
    "def negative_sampling(test_df, num_nodes, k=99):\n",
    "    neg_src = np.repeat(test_df['src_ind'], k)\n",
    "    neg_dst = np.random.randint(0, num_nodes, len(neg_src))\n",
    "    test_negative_df = pandas.DataFrame({'src_ind': neg_src, 'dst_ind': neg_dst})\n",
    "    return test_negative_df"
   ]
  },
  {
   "cell_type": "code",
   "execution_count": 48,
   "metadata": {},
   "outputs": [],
   "source": [
    "test_negative_df = negative_sampling(test_df, data.dst_ind.max(), 99)"
   ]
  },
  {
   "cell_type": "code",
   "execution_count": 56,
   "metadata": {},
   "outputs": [],
   "source": [
    "df1 = test_negative_df.set_index(['src_ind', 'dst_ind'])\n",
    "df2 = df.set_index(['src_ind', 'dst_ind'])\n",
    "df1.join(df2, how='inner')"
   ]
  },
  {
   "cell_type": "code",
   "execution_count": 61,
   "metadata": {},
   "outputs": [
    {
     "data": {
      "text/plain": [
       "(452430, 4570)"
      ]
     },
     "execution_count": 61,
     "metadata": {},
     "output_type": "execute_result"
    }
   ],
   "source": [
    "len(df1), len(test_df)"
   ]
  },
  {
   "cell_type": "code",
   "execution_count": 64,
   "metadata": {},
   "outputs": [],
   "source": [
    "train_df.to_csv('../tyc_cm/train_df.csv', index=False)\n",
    "valid_df.to_csv('../tyc_cm/valid_df.csv', index=False)\n",
    "test_df.to_csv('../tyc_cm/test_df.csv', index=False)\n",
    "test_negative_df.to_csv('../tyc_cm/test_neg_df.csv', index=False)"
   ]
  },
  {
   "cell_type": "code",
   "execution_count": null,
   "metadata": {},
   "outputs": [],
   "source": []
  }
 ],
 "metadata": {
  "kernelspec": {
   "display_name": "Python 3",
   "language": "python",
   "name": "python3"
  },
  "language_info": {
   "codemirror_mode": {
    "name": "ipython",
    "version": 3
   },
   "file_extension": ".py",
   "mimetype": "text/x-python",
   "name": "python",
   "nbconvert_exporter": "python",
   "pygments_lexer": "ipython3",
   "version": "3.6.5"
  }
 },
 "nbformat": 4,
 "nbformat_minor": 2
}
