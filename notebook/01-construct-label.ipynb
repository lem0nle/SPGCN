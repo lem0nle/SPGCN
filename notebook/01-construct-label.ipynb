{
 "cells": [
  {
   "cell_type": "code",
   "execution_count": 1,
   "source": [
    "import pandas as pd\n",
    "import csv\n",
    "import json\n",
    "\n",
    "rpath = '../data/raw/'\n",
    "wpath = '../data/tyc/'"
   ],
   "outputs": [],
   "metadata": {}
  },
  {
   "cell_type": "markdown",
   "source": [
    "已爬取的公司列表（`comp_dict`），和部分机构->公司对应关系（`org_comp`）："
   ],
   "metadata": {}
  },
  {
   "cell_type": "code",
   "execution_count": 2,
   "source": [
    "comp_dict = {}\n",
    "org_comp = {}\n",
    "\n",
    "for line in open(rpath + 'company_total.json', encoding='utf-8'):\n",
    "    line = json.loads(line)\n",
    "    comp_id, comp_name = line['id'], line['名称']\n",
    "    comp_dict[comp_id] = comp_name\n",
    "    \n",
    "    org = line.get('投资机构')\n",
    "    # 投资机构不存在或者为空列表\n",
    "    if not org:\n",
    "        continue\n",
    "    org_comp[org[0]] = comp_id"
   ],
   "outputs": [],
   "metadata": {}
  },
  {
   "cell_type": "markdown",
   "source": [
    "扩充机构->公司对应关系："
   ],
   "metadata": {}
  },
  {
   "cell_type": "code",
   "execution_count": 3,
   "source": [
    "org_manager = {}\n",
    "\n",
    "for line in open(rpath + 'organize_all.json', encoding='utf-8'):\n",
    "    line = json.loads(line)\n",
    "    org_id, man = line['id'], line.get('基金管理人')\n",
    "    if man:\n",
    "        org_manager[org_id] = [c['企业名称ID'] for c in man]"
   ],
   "outputs": [],
   "metadata": {}
  },
  {
   "cell_type": "code",
   "execution_count": 4,
   "source": [
    "org_comp_total = org_comp.copy()\n",
    "for k, v in org_manager.items():\n",
    "    # skip companies that are not crawled\n",
    "    if v[0] not in comp_dict:\n",
    "        continue\n",
    "    org_comp_total[k] = v[0]"
   ],
   "outputs": [],
   "metadata": {}
  },
  {
   "cell_type": "code",
   "execution_count": 5,
   "source": [
    "len(comp_dict), len(org_comp), len(org_comp_total)"
   ],
   "outputs": [
    {
     "output_type": "execute_result",
     "data": {
      "text/plain": [
       "(92524, 2441, 5176)"
      ]
     },
     "metadata": {},
     "execution_count": 5
    }
   ],
   "metadata": {}
  },
  {
   "cell_type": "markdown",
   "source": [
    "所有投资事件，包括工商追踪和公开投资（未公开投资没有时间）："
   ],
   "metadata": {}
  },
  {
   "cell_type": "code",
   "execution_count": 6,
   "source": [
    "touzi_all = {}        \n",
    "\n",
    "for line in open(rpath + 'organize_all.json', encoding='utf-8'):\n",
    "    line = json.loads(line)\n",
    "    org_id, gszz, gktz = line['id'], line.get('工商追踪'), line.get('公开投资事件')\n",
    "    if org_id not in org_comp_total:\n",
    "        # print(org_id)\n",
    "        continue\n",
    "\n",
    "    if gszz:\n",
    "        for rec in gszz:\n",
    "            content = rec['内容']\n",
    "            if content['CompanyID'] not in comp_dict:\n",
    "                continue\n",
    "            if rec['投资日期'] < '1950-01-01':\n",
    "                continue\n",
    "            if '对外投资' in content['文本']:\n",
    "                touzi_all[(org_comp_total[org_id], content['CompanyID'])] = rec['投资日期']\n",
    "\n",
    "    if gktz:\n",
    "        for rec in gktz:\n",
    "            if 'CompanyID' not in rec:\n",
    "                continue\n",
    "            if rec['CompanyID'] not in comp_dict:\n",
    "                continue\n",
    "            if rec['投资时间'] < '1950-01-01':\n",
    "                continue\n",
    "            touzi_all[(org_comp_total[org_id], rec['CompanyID'])] = rec['投资时间']"
   ],
   "outputs": [],
   "metadata": {}
  },
  {
   "cell_type": "markdown",
   "source": [
    "共8w+条有效的投资记录，涉及到的公司均爬取过："
   ],
   "metadata": {}
  },
  {
   "cell_type": "code",
   "execution_count": 7,
   "source": [
    "len(touzi_all)"
   ],
   "outputs": [
    {
     "output_type": "execute_result",
     "data": {
      "text/plain": [
       "88334"
      ]
     },
     "metadata": {},
     "execution_count": 7
    }
   ],
   "metadata": {}
  },
  {
   "cell_type": "code",
   "execution_count": 8,
   "source": [
    "src_cids = [sid for (sid, _) in touzi_all.keys()]\n",
    "dst_cids = [did for (_, did) in touzi_all.keys()]\n",
    "len(set(src_cids)), len(set(dst_cids)), len(set(src_cids + dst_cids))"
   ],
   "outputs": [
    {
     "output_type": "execute_result",
     "data": {
      "text/plain": [
       "(4902, 45158, 49593)"
      ]
     },
     "metadata": {},
     "execution_count": 8
    }
   ],
   "metadata": {}
  },
  {
   "cell_type": "code",
   "execution_count": 9,
   "source": [
    "# ensure all src_cids and dst_cids are in comp_dict\n",
    "assert len(set(comp_dict.keys()) & set(src_cids + dst_cids)) == len(set(src_cids + dst_cids))"
   ],
   "outputs": [],
   "metadata": {}
  },
  {
   "cell_type": "markdown",
   "source": [
    "构造公司列表，顺序为：纯投资公司，投资公司与被投资公司交集，纯被投资公司。\n",
    "\n",
    "给公司编号："
   ],
   "metadata": {}
  },
  {
   "cell_type": "code",
   "execution_count": 10,
   "source": [
    "len(set(src_cids) - set(dst_cids)), len(set(src_cids) & set(dst_cids)), len(set(dst_cids) - set(src_cids))"
   ],
   "outputs": [
    {
     "output_type": "execute_result",
     "data": {
      "text/plain": [
       "(4435, 467, 44691)"
      ]
     },
     "metadata": {},
     "execution_count": 10
    }
   ],
   "metadata": {}
  },
  {
   "cell_type": "code",
   "execution_count": 11,
   "source": [
    "src_list = list(set(src_cids) - set(dst_cids))\n",
    "common_list = list(set(src_cids) & set(dst_cids))\n",
    "dst_list = list(set(dst_cids) - set(src_cids))\n",
    "\n",
    "src_list.sort()\n",
    "common_list.sort()\n",
    "dst_list.sort()\n",
    "\n",
    "comp_list = src_list + common_list + dst_list\n",
    "comp_ind = {v: k for k, v in enumerate(comp_list)}"
   ],
   "outputs": [],
   "metadata": {}
  },
  {
   "cell_type": "code",
   "execution_count": 12,
   "source": [
    "assert len(comp_ind) == len(set(src_cids + dst_cids))"
   ],
   "outputs": [],
   "metadata": {}
  },
  {
   "cell_type": "markdown",
   "source": [
    "保存所有爬过的公司的名单："
   ],
   "metadata": {}
  },
  {
   "cell_type": "code",
   "execution_count": 13,
   "source": [
    "import pickle\n",
    "\n",
    "with open(wpath + 'comp_dict.pkl', 'wb') as f:\n",
    "    pickle.dump(comp_dict, f)"
   ],
   "outputs": [],
   "metadata": {}
  },
  {
   "cell_type": "markdown",
   "source": [
    "保存公司标号、url和名称的对应："
   ],
   "metadata": {}
  },
  {
   "cell_type": "code",
   "execution_count": 14,
   "source": [
    "df = pd.DataFrame({ 'cid': comp_list, 'cname': [comp_dict[c] for c in comp_list] })\n",
    "df.to_csv(wpath + 'comps.csv', index=False)"
   ],
   "outputs": [],
   "metadata": {}
  },
  {
   "cell_type": "markdown",
   "source": [
    "导出投资关系图："
   ],
   "metadata": {}
  },
  {
   "cell_type": "code",
   "execution_count": 15,
   "source": [
    "pd.read_csv(wpath + 'comps.csv')"
   ],
   "outputs": [
    {
     "output_type": "execute_result",
     "data": {
      "text/html": [
       "<div>\n",
       "<style scoped>\n",
       "    .dataframe tbody tr th:only-of-type {\n",
       "        vertical-align: middle;\n",
       "    }\n",
       "\n",
       "    .dataframe tbody tr th {\n",
       "        vertical-align: top;\n",
       "    }\n",
       "\n",
       "    .dataframe thead th {\n",
       "        text-align: right;\n",
       "    }\n",
       "</style>\n",
       "<table border=\"1\" class=\"dataframe\">\n",
       "  <thead>\n",
       "    <tr style=\"text-align: right;\">\n",
       "      <th></th>\n",
       "      <th>cid</th>\n",
       "      <th>cname</th>\n",
       "    </tr>\n",
       "  </thead>\n",
       "  <tbody>\n",
       "    <tr>\n",
       "      <th>0</th>\n",
       "      <td>company/1001373759</td>\n",
       "      <td>浙江国贸东方投资管理有限公司</td>\n",
       "    </tr>\n",
       "    <tr>\n",
       "      <th>1</th>\n",
       "      <td>company/10055837</td>\n",
       "      <td>亿阳信通股份有限公司</td>\n",
       "    </tr>\n",
       "    <tr>\n",
       "      <th>2</th>\n",
       "      <td>company/1007260421</td>\n",
       "      <td>武汉光谷生物城华岭基金管理有限公司</td>\n",
       "    </tr>\n",
       "    <tr>\n",
       "      <th>3</th>\n",
       "      <td>company/10082609</td>\n",
       "      <td>北京华谊嘉信整合营销顾问集团股份有限公司</td>\n",
       "    </tr>\n",
       "    <tr>\n",
       "      <th>4</th>\n",
       "      <td>company/1012358787</td>\n",
       "      <td>南京高科新创投资有限公司</td>\n",
       "    </tr>\n",
       "    <tr>\n",
       "      <th>...</th>\n",
       "      <td>...</td>\n",
       "      <td>...</td>\n",
       "    </tr>\n",
       "    <tr>\n",
       "      <th>49588</th>\n",
       "      <td>company/997749750</td>\n",
       "      <td>上海衡益特陶新材料有限公司</td>\n",
       "    </tr>\n",
       "    <tr>\n",
       "      <th>49589</th>\n",
       "      <td>company/99780228</td>\n",
       "      <td>北京北比信息技术有限公司</td>\n",
       "    </tr>\n",
       "    <tr>\n",
       "      <th>49590</th>\n",
       "      <td>company/99871402</td>\n",
       "      <td>北京红龙文化传媒有限公司</td>\n",
       "    </tr>\n",
       "    <tr>\n",
       "      <th>49591</th>\n",
       "      <td>company/998961890</td>\n",
       "      <td>福建省蓝深环保技术股份有限公司</td>\n",
       "    </tr>\n",
       "    <tr>\n",
       "      <th>49592</th>\n",
       "      <td>company/999224727</td>\n",
       "      <td>安徽拓吉泰新型陶瓷科技有限公司</td>\n",
       "    </tr>\n",
       "  </tbody>\n",
       "</table>\n",
       "<p>49593 rows × 2 columns</p>\n",
       "</div>"
      ],
      "text/plain": [
       "                      cid                 cname\n",
       "0      company/1001373759        浙江国贸东方投资管理有限公司\n",
       "1        company/10055837            亿阳信通股份有限公司\n",
       "2      company/1007260421     武汉光谷生物城华岭基金管理有限公司\n",
       "3        company/10082609  北京华谊嘉信整合营销顾问集团股份有限公司\n",
       "4      company/1012358787          南京高科新创投资有限公司\n",
       "...                   ...                   ...\n",
       "49588   company/997749750         上海衡益特陶新材料有限公司\n",
       "49589    company/99780228          北京北比信息技术有限公司\n",
       "49590    company/99871402          北京红龙文化传媒有限公司\n",
       "49591   company/998961890       福建省蓝深环保技术股份有限公司\n",
       "49592   company/999224727       安徽拓吉泰新型陶瓷科技有限公司\n",
       "\n",
       "[49593 rows x 2 columns]"
      ]
     },
     "metadata": {},
     "execution_count": 15
    }
   ],
   "metadata": {}
  },
  {
   "cell_type": "markdown",
   "source": [
    "导出投资关系图作为label："
   ],
   "metadata": {}
  },
  {
   "cell_type": "code",
   "execution_count": 16,
   "source": [
    "with open(wpath + 'comp_touzi_comp.csv', 'w', encoding='utf-8') as csvfile:\n",
    "    writer = csv.writer(csvfile)\n",
    "    writer.writerow(['src_ind', 'src_cid', 'src_cname', 'dst_ind', 'dst_cid', 'dst_cname', 'date'])\n",
    "    for (src_cid, dst_cid), date in touzi_all.items():\n",
    "        writer.writerow([comp_ind[src_cid], src_cid, comp_dict[src_cid], comp_ind[dst_cid], dst_cid, comp_dict[dst_cid], date])"
   ],
   "outputs": [],
   "metadata": {}
  }
 ],
 "metadata": {
  "orig_nbformat": 4,
  "language_info": {
   "name": "python"
  }
 },
 "nbformat": 4,
 "nbformat_minor": 2
}